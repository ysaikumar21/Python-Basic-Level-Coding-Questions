{
  "nbformat": 4,
  "nbformat_minor": 0,
  "metadata": {
    "colab": {
      "provenance": []
    },
    "kernelspec": {
      "name": "python3",
      "display_name": "Python 3"
    },
    "language_info": {
      "name": "python"
    }
  },
  "cells": [
    {
      "cell_type": "markdown",
      "source": [
        "1 . Print the input text without vowels using List comprehensions ?\n",
        "\n",
        "input = 'hai'\n",
        "Expected output = h\n"
      ],
      "metadata": {
        "id": "5KGxc9gG9BjS"
      }
    },
    {
      "cell_type": "code",
      "execution_count": 3,
      "metadata": {
        "colab": {
          "base_uri": "https://localhost:8080/"
        },
        "id": "tzZNmJIK8nqq",
        "outputId": "d5b04f98-e34a-4873-db96-9929dfa3d78a"
      },
      "outputs": [
        {
          "output_type": "stream",
          "name": "stdout",
          "text": [
            "Data Science\n",
            "dt scnc"
          ]
        }
      ],
      "source": [
        "vowels='aeiou'\n",
        "String=str(input())\n",
        "String=String.lower()\n",
        "for char in String:\n",
        "  if char in vowels:\n",
        "    continue\n",
        "  else:\n",
        "    print(f'{char}',end='')\n"
      ]
    },
    {
      "cell_type": "markdown",
      "source": [
        "2 . Print only vowels from the text using List comprehensions\n",
        "input = data\n",
        "Expected output = dt\n"
      ],
      "metadata": {
        "id": "rTZGpB1D-jQJ"
      }
    },
    {
      "cell_type": "code",
      "source": [
        "vowels='aeiou'\n",
        "String=str(input())\n",
        "String=String.lower()\n",
        "for char in String:\n",
        "  if char in vowels:\n",
        "    print(f'{char}',end='')\n",
        "  else:\n",
        "    continue\n",
        "\n"
      ],
      "metadata": {
        "colab": {
          "base_uri": "https://localhost:8080/"
        },
        "id": "GFLoZeoz-SBO",
        "outputId": "25a4cfe0-288b-4baf-a50e-7e886183bb98"
      },
      "execution_count": 4,
      "outputs": [
        {
          "output_type": "stream",
          "name": "stdout",
          "text": [
            "Data Science\n",
            "aaiee"
          ]
        }
      ]
    },
    {
      "cell_type": "markdown",
      "source": [
        "3.print each valu from the list with its index\n",
        "input = [10,11,50,34]\n",
        "Expected output = [100 , 111 , 502 , 343]\n"
      ],
      "metadata": {
        "id": "qboifvY0_R4n"
      }
    },
    {
      "cell_type": "code",
      "source": [
        "my_list=[10,11,50,34]\n",
        "output_list=[]\n",
        "for i,j in enumerate(my_list):\n",
        "  new_values=int(str(j)+str(i))\n",
        "  output_list.append(new_values)\n",
        "print(output_list)"
      ],
      "metadata": {
        "colab": {
          "base_uri": "https://localhost:8080/"
        },
        "id": "-cSs4An7_Dkq",
        "outputId": "ee19368e-f315-46f1-cd27-9ca4581b7f1d"
      },
      "execution_count": 8,
      "outputs": [
        {
          "output_type": "stream",
          "name": "stdout",
          "text": [
            "[100, 111, 502, 343]\n"
          ]
        }
      ]
    },
    {
      "cell_type": "markdown",
      "source": [
        "4 . This is a Python Program to print all integers that aren’t divisible by either 2 or 3 and lies between 1 and 50.\n"
      ],
      "metadata": {
        "id": "na-IMNNkCX-z"
      }
    },
    {
      "cell_type": "code",
      "source": [
        "for i in range(1,51):\n",
        "  if i%2==0 or i%3==0 :\n",
        "    continue\n",
        "  else:\n",
        "    print(i)\n"
      ],
      "metadata": {
        "colab": {
          "base_uri": "https://localhost:8080/"
        },
        "id": "ynwcoKyJ_wxU",
        "outputId": "220e9d34-18cc-4f7a-ef7d-1b542bc0bbad"
      },
      "execution_count": 10,
      "outputs": [
        {
          "output_type": "stream",
          "name": "stdout",
          "text": [
            "1\n",
            "5\n",
            "7\n",
            "11\n",
            "13\n",
            "17\n",
            "19\n",
            "23\n",
            "25\n",
            "29\n",
            "31\n",
            "35\n",
            "37\n",
            "41\n",
            "43\n",
            "47\n",
            "49\n"
          ]
        }
      ]
    },
    {
      "cell_type": "markdown",
      "source": [
        "5 . The program takes in an integer and prints the smallest divisor of the integer."
      ],
      "metadata": {
        "id": "LPcgGb9jEdkk"
      }
    },
    {
      "cell_type": "code",
      "source": [
        "num=int(input(\"Enter Positive number only : \"))\n",
        "divisors_list=[]\n",
        "for i in range(2,num+1):\n",
        "  if num%i==0:\n",
        "    divisors_list.append(i)\n",
        "print(f'list of divisors is : {divisors_list}')\n",
        "divisors_list.sort()\n",
        "print(f'Smallest Divisor is : {divisors_list[0]}')\n",
        "\n"
      ],
      "metadata": {
        "colab": {
          "base_uri": "https://localhost:8080/"
        },
        "id": "QpVjIn8LEFjC",
        "outputId": "f71830f7-b2e8-45cb-ccdf-eb9560ab1128"
      },
      "execution_count": 18,
      "outputs": [
        {
          "output_type": "stream",
          "name": "stdout",
          "text": [
            "Enter Positive number only : 128\n",
            "list of divisors is : [2, 4, 8, 16, 32, 64, 128]\n",
            "Smallest Divisor is : 2\n"
          ]
        }
      ]
    },
    {
      "cell_type": "markdown",
      "source": [
        "6 . Write a Python program to check if it is a strong number or not ."
      ],
      "metadata": {
        "id": "8DzUKevpIX8F"
      }
    },
    {
      "cell_type": "code",
      "source": [
        "import math"
      ],
      "metadata": {
        "id": "twvDBTMXKlxz"
      },
      "execution_count": 19,
      "outputs": []
    },
    {
      "cell_type": "code",
      "source": [
        "import math\n",
        "def is_Strong_Num(integer):\n",
        "  temp=integer\n",
        "  sum_of_factorials=0\n",
        "  while temp > 0:\n",
        "    rem=temp%10\n",
        "    sum_of_factorials = sum_of_factorials + math.factorial(rem)\n",
        "    temp=temp//10\n",
        "  return sum_of_factorials==integer\n",
        "\n",
        "integer=int(input())\n",
        "if is_Strong_Num(integer):\n",
        "  print(f'{integer} is a Strong Number')\n",
        "else:\n",
        "  print(f'{integer} is not a Strong Number')\n",
        "\n",
        "\n",
        "\n",
        ""
      ],
      "metadata": {
        "colab": {
          "base_uri": "https://localhost:8080/"
        },
        "id": "3UjROikRGyxv",
        "outputId": "9f1bb8c2-d5cd-485d-b50f-ad1c5c1f5d31"
      },
      "execution_count": 36,
      "outputs": [
        {
          "output_type": "stream",
          "name": "stdout",
          "text": [
            "145\n",
            "145 is a Strong Number\n"
          ]
        }
      ]
    },
    {
      "cell_type": "markdown",
      "source": [
        "7 . Write a Python program that takes input from the user and displays that input back in upper and lower cases."
      ],
      "metadata": {
        "id": "zEiw5M_PRc2h"
      }
    },
    {
      "cell_type": "code",
      "source": [
        "User_input=str(input())\n",
        "lower_case=User_input.lower()\n",
        "upper_case=User_input.upper()\n",
        "print(lower_case)\n",
        "print(upper_case)"
      ],
      "metadata": {
        "colab": {
          "base_uri": "https://localhost:8080/"
        },
        "id": "HQtugLvIMCLf",
        "outputId": "c343ce67-6540-40fb-e345-6df77a753b3f"
      },
      "execution_count": 38,
      "outputs": [
        {
          "output_type": "stream",
          "name": "stdout",
          "text": [
            "Sai KUMar\n",
            "sai kumar\n",
            "SAI KUMAR\n"
          ]
        }
      ]
    },
    {
      "cell_type": "markdown",
      "source": [
        "8. Write a Python program to remove spaces from a given string\n",
        "\n",
        "input = united states\n",
        "output = unitedstates\n"
      ],
      "metadata": {
        "id": "0SlVdNTISb1f"
      }
    },
    {
      "cell_type": "code",
      "source": [
        "string=str(input())\n",
        "String=string.replace(' ','')\n",
        "print(String)"
      ],
      "metadata": {
        "colab": {
          "base_uri": "https://localhost:8080/"
        },
        "id": "ck_uxjV2SBSn",
        "outputId": "b9e6108d-bca7-40b6-b7da-e08a1f372eb7"
      },
      "execution_count": 44,
      "outputs": [
        {
          "output_type": "stream",
          "name": "stdout",
          "text": [
            "Sai kumar yaramala\n",
            "Saikumaryaramala\n"
          ]
        }
      ]
    },
    {
      "cell_type": "markdown",
      "source": [
        "9 . Write a Python program to capitalize first and last letters of each word of a given string."
      ],
      "metadata": {
        "id": "ANuZjRQMUeEO"
      }
    },
    {
      "cell_type": "code",
      "source": [
        "def Capaitalize_First_Last(input_string):\n",
        "  words=input_string.split()\n",
        "  result=[]\n",
        "  for word in words:\n",
        "    if len(word)>1:\n",
        "      result.append(word[0].upper() + word[1:-1] + word[-1].upper())\n",
        "    else:\n",
        "      result.append(word.upper())\n",
        "  return \" \".join(result)\n",
        "input_string=str(input())\n",
        "output_string=Capaitalize_First_Last(input_string)\n",
        "print(output_string)"
      ],
      "metadata": {
        "colab": {
          "base_uri": "https://localhost:8080/"
        },
        "id": "21rSLEvVS2-g",
        "outputId": "c4c8992c-ff8b-4d32-a8f4-49e457404469"
      },
      "execution_count": 46,
      "outputs": [
        {
          "output_type": "stream",
          "name": "stdout",
          "text": [
            " Python program to capitalize first and last letters \n",
            "PythoN PrograM TO CapitalizE FirsT AnD LasT LetterS\n"
          ]
        }
      ]
    },
    {
      "cell_type": "markdown",
      "source": [
        "10 . write a python program to find length of a string but should not use        len keyword"
      ],
      "metadata": {
        "id": "U6v6h42mXdB8"
      }
    },
    {
      "cell_type": "code",
      "source": [
        "my_String=str(input())\n",
        "count=0\n",
        "for char in my_String:\n",
        "  count=count+1\n",
        "print(f'the length of string is {count} characters present')\n"
      ],
      "metadata": {
        "colab": {
          "base_uri": "https://localhost:8080/"
        },
        "id": "EcRHm1ZxWnLu",
        "outputId": "0ef522a5-27d0-49e9-cc00-af8bdb2c387e"
      },
      "execution_count": 49,
      "outputs": [
        {
          "output_type": "stream",
          "name": "stdout",
          "text": [
            "length of a string but should\n",
            "the length of string is 29 characters present\n"
          ]
        }
      ]
    },
    {
      "cell_type": "code",
      "source": [],
      "metadata": {
        "id": "_MqnI7WWYJkx"
      },
      "execution_count": null,
      "outputs": []
    }
  ]
}